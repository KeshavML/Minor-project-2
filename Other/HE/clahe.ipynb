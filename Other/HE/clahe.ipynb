{
 "cells": [
  {
   "cell_type": "code",
   "execution_count": 3,
   "id": "381db0a6",
   "metadata": {
    "tags": []
   },
   "outputs": [],
   "source": [
    "import os\n",
    "import glob\n",
    "import cv2\n",
    "import numpy as np\n",
    "from pathlib import Path\n",
    "from matplotlib import pyplot as plt"
   ]
  },
  {
   "cell_type": "code",
   "execution_count": 4,
   "id": "dbfeb17b",
   "metadata": {},
   "outputs": [],
   "source": [
    "path = glob.glob('/home/buttplug/HE/input/*.png')\n",
    "files = []\n",
    "\n",
    "for impath in path:\n",
    "    img = cv2.imread(impath)\n",
    "    img = cv2.resize(img, (512, 512))\n",
    "    bw_img = cv2.cvtColor(img, cv2.COLOR_BGR2GRAY)\n",
    "\n",
    "    cliplimit = 5\n",
    "\n",
    "    clahe = cv2.createCLAHE(cliplimit)\n",
    "    final_img = clahe.apply(bw_img)\n",
    "\n",
    "    cv2.threshold(bw_img, 0, 255, cv2.THRESH_BINARY + cv2.THRESH_OTSU)\n",
    "\n",
    "    filename = os.path.basename(impath).split('.')[0]\n",
    "    fullpath = './output/{}-clahe.png'.format(filename)\n",
    "    \n",
    "    cv2.imwrite(fullpath, final_img)"
   ]
  }
 ],
 "metadata": {
  "kernelspec": {
   "display_name": "py36",
   "language": "python",
   "name": "py36"
  },
  "language_info": {
   "codemirror_mode": {
    "name": "ipython",
    "version": 3
   },
   "file_extension": ".py",
   "mimetype": "text/x-python",
   "name": "python",
   "nbconvert_exporter": "python",
   "pygments_lexer": "ipython3",
   "version": "3.6.13"
  }
 },
 "nbformat": 4,
 "nbformat_minor": 5
}
