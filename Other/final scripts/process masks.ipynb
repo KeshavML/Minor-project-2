{
 "cells": [
  {
   "cell_type": "code",
   "execution_count": 9,
   "metadata": {},
   "outputs": [],
   "source": [
    "# Python program to demonstrate erosion and\n",
    "# dilation of images.\n",
    "import cv2\n",
    "import numpy as np\n",
    "import os\n",
    "import concurrent.futures as cf\n"
   ]
  },
  {
   "cell_type": "code",
   "execution_count": 12,
   "metadata": {},
   "outputs": [],
   "source": [
    "def dilateMasks(mask_paths):\n",
    "    global kernel\n",
    "    img = cv2.imread(mask_paths[0],0)\n",
    "    img_dilation = cv2.dilate(img, kernel,iterations=10)\n",
    "    cv2.imwrite(mask_paths[1],img_dilation)\n",
    "\n",
    "kernel = np.ones((5,5), np.uint8)\n",
    "masks_path = \"./masks/\"\n",
    "masks = [masks_path+each for each in os.listdir(masks_path)]\n",
    "masks.sort()\n",
    "save_masks = \"./dilated masks/\"\n",
    "save_masks = [save_masks+each for each in os.listdir(masks_path)]\n",
    "save_masks.sort()\n",
    "images_paths = []\n",
    "\n",
    "for idx in range(len(masks)):\n",
    "    images_paths.append([masks[idx],save_masks[idx]])\n",
    "\n",
    "# print(images_paths)\n",
    "with cf.ThreadPoolExecutor() as executor:\n",
    "    executor.map(dilateMasks, images_paths)"
   ]
  },
  {
   "cell_type": "code",
   "execution_count": 13,
   "metadata": {},
   "outputs": [
    {
     "name": "stdout",
     "output_type": "stream",
     "text": [
      "[['./dilated masks/image_01 mask.png', './xrays/image_01 xray.png', './masked xrays/image_01 xray.png']]\n"
     ]
    }
   ],
   "source": [
    "masks_path = \"./dilated masks/\"\n",
    "masks = [masks_path+each for each in os.listdir(masks_path)]\n",
    "masks.sort()\n",
    "\n",
    "xrays_path = \"./xrays/\"\n",
    "xrays = [xrays_path+each for each in os.listdir(xrays_path)]\n",
    "xrays.sort()\n",
    "\n",
    "save_xrays_path = \"./masked xrays/\"\n",
    "save_xrays = [save_xrays_path+each for each in os.listdir(xrays_path)]\n",
    "save_xrays.sort()\n",
    "\n",
    "images_paths = []\n",
    "\n",
    "for idx in range(len(masks)):\n",
    "    images_paths.append([masks[idx],xrays[idx],save_xrays[idx]])\n",
    "\n",
    "print(images_paths)"
   ]
  },
  {
   "cell_type": "code",
   "execution_count": 14,
   "metadata": {},
   "outputs": [],
   "source": [
    "def maskXrays(paths):\n",
    "    mask = cv2.imread(paths[0],0)\n",
    "    xray = cv2.imread(paths[1],0)\n",
    "    masked = cv2.bitwise_and(xray, xray, mask=mask)\n",
    "    cv2.imwrite(paths[2],masked)"
   ]
  },
  {
   "cell_type": "code",
   "execution_count": 15,
   "metadata": {},
   "outputs": [],
   "source": [
    "# print(images_paths)\n",
    "with cf.ThreadPoolExecutor() as executor:\n",
    "    executor.map(maskXrays, images_paths)\n"
   ]
  },
  {
   "cell_type": "code",
   "execution_count": null,
   "metadata": {},
   "outputs": [],
   "source": []
  }
 ],
 "metadata": {
  "interpreter": {
   "hash": "8af89a6aa441cd72ab82d01c502e616cca9ab4505de1846da0abbe5d7a5515e2"
  },
  "kernelspec": {
   "display_name": "Python 3.6.10 64-bit ('MINOR': conda)",
   "language": "python",
   "name": "python3"
  },
  "language_info": {
   "codemirror_mode": {
    "name": "ipython",
    "version": 3
   },
   "file_extension": ".py",
   "mimetype": "text/x-python",
   "name": "python",
   "nbconvert_exporter": "python",
   "pygments_lexer": "ipython3",
   "version": "3.6.10"
  },
  "orig_nbformat": 4
 },
 "nbformat": 4,
 "nbformat_minor": 2
}
