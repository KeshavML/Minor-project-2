{
 "cells": [
  {
   "cell_type": "code",
   "execution_count": 1,
   "metadata": {},
   "outputs": [],
   "source": [
    "# import os\n",
    "import pandas as pd\n",
    "# old = pd.read_csv(\"train_pathology 2.csv\")[['Image Index', 'Finding Label']]\n",
    "# paths = old['Finding Label'].unique().tolist()\n",
    "# path_map = {}\n",
    "# for idx,each in enumerate(paths,1):\n",
    "#     path_map[each] = idx\n",
    "# path_map['No Finding'] = 9\n",
    "path_map = {'Atelectasis': 1,\n",
    " 'Cardiomegaly': 2,\n",
    " 'Effusion': 3,\n",
    " 'Infiltrate': 4,\n",
    " 'Mass': 5,\n",
    " 'Nodule': 6,\n",
    " 'Pneumonia': 7,\n",
    " 'Pneumothorax': 8,\n",
    " 'No Finding': 9}"
   ]
  },
  {
   "cell_type": "code",
   "execution_count": 91,
   "metadata": {},
   "outputs": [],
   "source": [
    "new = pd.read_csv(\"train_pathology test.csv\")[['Image Index','Finding Labels']]\n",
    "labels = new[\"Finding Labels\"].values"
   ]
  },
  {
   "cell_type": "code",
   "execution_count": 99,
   "metadata": {},
   "outputs": [],
   "source": [
    "p1 = []\n",
    "for each in labels:\n",
    "    each = each.replace(\"Infiltration\",'Infiltrate')\\\n",
    "        .replace(\"Consolidation\",\"\")\\\n",
    "        .replace(\"Edema\",\"\")\\\n",
    "        .replace(\"Pleural_Thickening\",\"\")\\\n",
    "        .replace(\"Emphysema\",\"\")\\\n",
    "        .replace(\"Fibrosis\",\"\")\\\n",
    "        .replace(\"Hernia\",\"\")\n",
    "    p1.append(each)\n",
    "    \n",
    "p2 = []\n",
    "for each in p1:\n",
    "    each = each.replace(\"||\",\"|\")\n",
    "    p2.append(each)\n",
    "\n",
    "p3 = []\n",
    "p3_idx = []\n",
    "for idx,each in enumerate(p2):\n",
    "    if len(each)>1:\n",
    "        if each[0] == '|':\n",
    "            p3.append(each[1:])\n",
    "        else:\n",
    "            p3.append(each)\n",
    "    else:\n",
    "        p3.append(\"\")\n",
    "        p3_idx.append(idx)"
   ]
  },
  {
   "cell_type": "code",
   "execution_count": 115,
   "metadata": {},
   "outputs": [],
   "source": [
    "def getLabels(x):\n",
    "    label = ''\n",
    "    x = x.split(\"|\")\n",
    "    keys_ = path_map.keys()\n",
    "    for each in keys_:\n",
    "        if each in x:\n",
    "            label=label+\"1,\"\n",
    "        else:\n",
    "            label = label+\"0,\"\n",
    "    return label[:-1]"
   ]
  },
  {
   "cell_type": "code",
   "execution_count": 122,
   "metadata": {},
   "outputs": [],
   "source": [
    "final_labels = list(map(getLabels,p3))\n",
    "new['Finding Labels'] = final_labels\n",
    "new.to_csv(\"train_pathology.csv\",index=False)"
   ]
  }
 ],
 "metadata": {
  "interpreter": {
   "hash": "8af89a6aa441cd72ab82d01c502e616cca9ab4505de1846da0abbe5d7a5515e2"
  },
  "kernelspec": {
   "display_name": "Python 3.6.10 64-bit ('MINOR': conda)",
   "language": "python",
   "name": "python3"
  },
  "language_info": {
   "codemirror_mode": {
    "name": "ipython",
    "version": 3
   },
   "file_extension": ".py",
   "mimetype": "text/x-python",
   "name": "python",
   "nbconvert_exporter": "python",
   "pygments_lexer": "ipython3",
   "version": "3.6.10"
  },
  "orig_nbformat": 4
 },
 "nbformat": 4,
 "nbformat_minor": 2
}
